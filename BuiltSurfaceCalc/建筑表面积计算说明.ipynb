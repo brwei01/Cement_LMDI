{
 "cells": [
  {
   "cell_type": "markdown",
   "id": "272ea765-c7ef-449f-bfcd-3c186cb419a0",
   "metadata": {},
   "source": [
    "### 建筑高度可直接从体积和占地面积推导，符合GHSL数据文档中的ANBH（平均净建筑高度）定义\n",
    "\n",
    "$ \\text{Building Height} = \\frac{\\text{Volume}}{\\text{Footprint}} $ \n",
    "\n",
    "\n",
    "$ \\text{ANBH} = \\frac{\\text{BUVOL}}{\\text{BUSURF}} $"
   ]
  },
  {
   "cell_type": "markdown",
   "id": "d79ccfd7-b265-4ac9-9443-deb95386613a",
   "metadata": {},
   "source": [
    "### 像素级表面积计算\n",
    "\n",
    "公式应用：\n",
    "$Surface_{pixel} = 4 \\times \\frac{Volume_{pixel}}{\\sqrt{Footprint_{pixel}}} + Footprint_{pixel}$\n",
    "\n",
    "合理性：\n",
    "\n",
    "当$Footprint_{pixel} = 900m²$（完全覆盖）时：\n",
    "$Surface = 4 \\times \\frac{V}{\\sqrt{900}} + 900 = \\frac{4V}{30} + 900$\n",
    "\n",
    "当$Footprint_{pixel} = 225m²$（25%覆盖）时：\n",
    "$Surface = 4 \\times \\frac{V}{\\sqrt{225}} + 225 = \\frac{4V}{15} + 225$\n",
    "\n",
    "优势：自动适应不同建筑密度"
   ]
  },
  {
   "cell_type": "markdown",
   "id": "de99d250-4f45-4142-984e-7d5617c26b7f",
   "metadata": {},
   "source": [
    "### 尺度适应性原理\n",
    "\n",
    "微观尺度：公式源自建筑几何学（立方体模型）\n",
    "\n",
    "宏观尺度：满足 $\\lim_{n \\to \\infty} \\sum f(x) = \\int f(x)dx$\n",
    "\n",
    "物理意义明确\n",
    "\n",
    "当建筑=立方体时（长宽高相等）：\n",
    "$Surface = 6a^2$\n",
    "$Volume = a^3$\n",
    "$Footprint = a^2$\n",
    "代入公式：$4 \\times \\frac{a^3}{a} + a^2 = 4a^2 + a^2 = 5a^2$ ≈ 实际值6a²（误差16.7%）\n",
    "\n",
    "实际建筑（h>a）：\n",
    "\n",
    "高度30m/基底10m：误差<5%\n",
    "\n",
    "摩天大楼：误差<2%"
   ]
  },
  {
   "cell_type": "code",
   "execution_count": null,
   "id": "baa79465-30ba-4399-b2a7-bf973beb6bb5",
   "metadata": {},
   "outputs": [],
   "source": []
  }
 ],
 "metadata": {
  "kernelspec": {
   "display_name": "Python 3 (ipykernel)",
   "language": "python",
   "name": "python3"
  },
  "language_info": {
   "codemirror_mode": {
    "name": "ipython",
    "version": 3
   },
   "file_extension": ".py",
   "mimetype": "text/x-python",
   "name": "python",
   "nbconvert_exporter": "python",
   "pygments_lexer": "ipython3",
   "version": "3.12.9"
  }
 },
 "nbformat": 4,
 "nbformat_minor": 5
}
